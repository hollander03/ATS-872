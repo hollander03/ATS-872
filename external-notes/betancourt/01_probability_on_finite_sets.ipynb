{
 "cells": [
  {
   "cell_type": "markdown",
   "metadata": {},
   "source": [
    "# Probability theory on finite sets\n",
    "\n",
    "Most of the problems arise when we try and implement probability theory on elaborate sets like the real numbers. This is when we encounter measure theory. "
   ]
  },
  {
   "cell_type": "markdown",
   "metadata": {},
   "source": [
    "## Finite sets\n",
    "\n",
    "A finite set contains a number of distinct elements. \n",
    "\n",
    "$$\n",
    "X=\\left\\{x_1, \\ldots, x_N\\right\\}\n",
    "$$\n",
    "\n",
    "When $X$ is intended to capture *all* of the objects of interest we will refer to it as the **ambient set**. Once the ambient set is defined we can organise individual elements and also manipulate the organisations. We can think of selecting a subset of elements of the ambient set as an example.  "
   ]
  },
  {
   "cell_type": "markdown",
   "metadata": {},
   "source": [
    "### Subsets\n",
    "\n",
    "A subset of $X$ is a collection of elements of $X$. No notion of multiplicity in the concept of subset, just membership. A subset can contain an element $x_n$, but it cannot include that element multiple times. \n"
   ]
  },
  {
   "cell_type": "code",
   "execution_count": null,
   "metadata": {},
   "outputs": [],
   "source": []
  }
 ],
 "metadata": {
  "kernelspec": {
   "display_name": "Julia 1.9.2",
   "language": "julia",
   "name": "julia-1.9"
  },
  "language_info": {
   "file_extension": ".jl",
   "mimetype": "application/julia",
   "name": "julia",
   "version": "1.9.2"
  },
  "orig_nbformat": 4
 },
 "nbformat": 4,
 "nbformat_minor": 2
}
